{
  "nbformat": 4,
  "nbformat_minor": 0,
  "metadata": {
    "colab": {
      "provenance": [],
      "gpuType": "T4"
    },
    "kernelspec": {
      "name": "python3",
      "display_name": "Python 3"
    },
    "language_info": {
      "name": "python"
    },
    "accelerator": "GPU"
  },
  "cells": [
    {
      "cell_type": "code",
      "execution_count": null,
      "metadata": {
        "colab": {
          "base_uri": "https://localhost:8080/"
        },
        "id": "9wMseJOKf1sA",
        "outputId": "56acc97d-c519-4b27-cc44-6c740f242162"
      },
      "outputs": [
        {
          "output_type": "stream",
          "name": "stdout",
          "text": [
            "Drive already mounted at /content/gdrive; to attempt to forcibly remount, call drive.mount(\"/content/gdrive\", force_remount=True).\n"
          ]
        }
      ],
      "source": [
        "from google.colab import drive\n",
        "drive.mount('/content/gdrive')"
      ]
    },
    {
      "cell_type": "code",
      "source": [
        "!git clone https://github.com/Rudrabha/Wav2Lip.git"
      ],
      "metadata": {
        "colab": {
          "base_uri": "https://localhost:8080/"
        },
        "id": "xriD1KLBHvcp",
        "outputId": "a9f4543c-3db3-4db3-bbb2-94fa4e29af8b"
      },
      "execution_count": null,
      "outputs": [
        {
          "output_type": "stream",
          "name": "stdout",
          "text": [
            "Cloning into 'Wav2Lip'...\n",
            "remote: Enumerating objects: 363, done.\u001b[K\n",
            "remote: Counting objects: 100% (3/3), done.\u001b[K\n",
            "remote: Compressing objects: 100% (3/3), done.\u001b[K\n",
            "remote: Total 363 (delta 0), reused 1 (delta 0), pack-reused 360\u001b[K\n",
            "Receiving objects: 100% (363/363), 528.20 KiB | 3.43 MiB/s, done.\n",
            "Resolving deltas: 100% (198/198), done.\n"
          ]
        }
      ]
    },
    {
      "cell_type": "code",
      "source": [
        "!ls"
      ],
      "metadata": {
        "colab": {
          "base_uri": "https://localhost:8080/"
        },
        "id": "f8_9G-H6gFmJ",
        "outputId": "84d586cd-9100-40d9-fa2a-4b8b0718807c"
      },
      "execution_count": null,
      "outputs": [
        {
          "output_type": "stream",
          "name": "stdout",
          "text": [
            "gdrive\tsample_data  Wav2Lip\n"
          ]
        }
      ]
    },
    {
      "cell_type": "code",
      "source": [
        "!cp -ri \"/content/gdrive/MyDrive/Myproj/openapp/weights/wav2lip.pth\" /content/Wav2Lip/checkpoints/"
      ],
      "metadata": {
        "id": "qwwjfXRdIGh5"
      },
      "execution_count": null,
      "outputs": []
    },
    {
      "cell_type": "code",
      "source": [
        "!pip uninstall tensorflow tensorflow-gpu"
      ],
      "metadata": {
        "colab": {
          "base_uri": "https://localhost:8080/"
        },
        "id": "-xUccJI5IIGn",
        "outputId": "85746127-d1ae-493e-b488-c1742831b4fc"
      },
      "execution_count": null,
      "outputs": [
        {
          "output_type": "stream",
          "name": "stdout",
          "text": [
            "Found existing installation: tensorflow 2.13.0\n",
            "Uninstalling tensorflow-2.13.0:\n",
            "  Would remove:\n",
            "    /usr/local/bin/estimator_ckpt_converter\n",
            "    /usr/local/bin/import_pb_to_tensorboard\n",
            "    /usr/local/bin/saved_model_cli\n",
            "    /usr/local/bin/tensorboard\n",
            "    /usr/local/bin/tf_upgrade_v2\n",
            "    /usr/local/bin/tflite_convert\n",
            "    /usr/local/bin/toco\n",
            "    /usr/local/bin/toco_from_protos\n",
            "    /usr/local/lib/python3.10/dist-packages/tensorflow-2.13.0.dist-info/*\n",
            "    /usr/local/lib/python3.10/dist-packages/tensorflow/*\n",
            "Proceed (Y/n)? y\n",
            "y\n",
            "y\n",
            "  Successfully uninstalled tensorflow-2.13.0\n",
            "\u001b[33mWARNING: Skipping tensorflow-gpu as it is not installed.\u001b[0m\u001b[33m\n",
            "\u001b[0m"
          ]
        }
      ]
    },
    {
      "cell_type": "code",
      "source": [
        "!cd Wav2Lip && pip install -r requirements.txt"
      ],
      "metadata": {
        "colab": {
          "base_uri": "https://localhost:8080/"
        },
        "id": "4cXyYrhRPnbF",
        "outputId": "9a68b4d5-eb28-4721-e14f-abb1e48d2793"
      },
      "execution_count": null,
      "outputs": [
        {
          "output_type": "stream",
          "name": "stdout",
          "text": [
            "Collecting librosa==0.7.0 (from -r requirements.txt (line 1))\n",
            "  Downloading librosa-0.7.0.tar.gz (1.6 MB)\n",
            "\u001b[?25l     \u001b[90m━━━━━━━━━━━━━━━━━━━━━━━━━━━━━━━━━━━━━━━━\u001b[0m \u001b[32m0.0/1.6 MB\u001b[0m \u001b[31m?\u001b[0m eta \u001b[36m-:--:--\u001b[0m\r\u001b[2K     \u001b[91m━━━\u001b[0m\u001b[91m╸\u001b[0m\u001b[90m━━━━━━━━━━━━━━━━━━━━━━━━━━━━━━━━━━━━\u001b[0m \u001b[32m0.1/1.6 MB\u001b[0m \u001b[31m4.5 MB/s\u001b[0m eta \u001b[36m0:00:01\u001b[0m\r\u001b[2K     \u001b[91m━━━━━━━━━━━━━━━━━━━━━━━━━━━━━━━━━━━━\u001b[0m\u001b[90m╺\u001b[0m\u001b[90m━━━\u001b[0m \u001b[32m1.4/1.6 MB\u001b[0m \u001b[31m21.7 MB/s\u001b[0m eta \u001b[36m0:00:01\u001b[0m\r\u001b[2K     \u001b[90m━━━━━━━━━━━━━━━━━━━━━━━━━━━━━━━━━━━━━━━━\u001b[0m \u001b[32m1.6/1.6 MB\u001b[0m \u001b[31m19.7 MB/s\u001b[0m eta \u001b[36m0:00:00\u001b[0m\n",
            "\u001b[?25h  Preparing metadata (setup.py) ... \u001b[?25l\u001b[?25hdone\n",
            "Collecting numpy==1.17.1 (from -r requirements.txt (line 2))\n",
            "  Downloading numpy-1.17.1.zip (6.5 MB)\n",
            "\u001b[2K     \u001b[90m━━━━━━━━━━━━━━━━━━━━━━━━━━━━━━━━━━━━━━━━\u001b[0m \u001b[32m6.5/6.5 MB\u001b[0m \u001b[31m105.6 MB/s\u001b[0m eta \u001b[36m0:00:00\u001b[0m\n",
            "\u001b[?25h  Preparing metadata (setup.py) ... \u001b[?25l\u001b[?25hdone\n",
            "Requirement already satisfied: opencv-contrib-python>=4.2.0.34 in /usr/local/lib/python3.10/dist-packages (from -r requirements.txt (line 3)) (4.8.0.76)\n",
            "\u001b[31mERROR: Could not find a version that satisfies the requirement opencv-python==4.1.0.25 (from versions: 3.4.0.14, 3.4.10.37, 3.4.11.39, 3.4.11.41, 3.4.11.43, 3.4.11.45, 3.4.13.47, 3.4.15.55, 3.4.16.57, 3.4.16.59, 3.4.17.61, 3.4.17.63, 3.4.18.65, 4.3.0.38, 4.4.0.40, 4.4.0.42, 4.4.0.44, 4.4.0.46, 4.5.1.48, 4.5.3.56, 4.5.4.58, 4.5.4.60, 4.5.5.62, 4.5.5.64, 4.6.0.66, 4.7.0.68, 4.7.0.72, 4.8.0.74, 4.8.0.76, 4.8.1.78)\u001b[0m\u001b[31m\n",
            "\u001b[0m\u001b[31mERROR: No matching distribution found for opencv-python==4.1.0.25\u001b[0m\u001b[31m\n",
            "\u001b[0m"
          ]
        }
      ]
    },
    {
      "cell_type": "code",
      "source": [
        "!wget \"https://www.adrianbulat.com/downloads/python-fan/s3fd-619a316812.pth\" -O \"Wav2Lip/face_detection/detection/sfd/s3fd.pth\""
      ],
      "metadata": {
        "colab": {
          "base_uri": "https://localhost:8080/"
        },
        "id": "HYJ2DIABQIzY",
        "outputId": "44c34f73-32b5-4399-b96a-f052e33f9073"
      },
      "execution_count": null,
      "outputs": [
        {
          "output_type": "stream",
          "name": "stdout",
          "text": [
            "--2023-09-29 06:22:04--  https://www.adrianbulat.com/downloads/python-fan/s3fd-619a316812.pth\n",
            "Resolving www.adrianbulat.com (www.adrianbulat.com)... 45.136.29.207\n",
            "Connecting to www.adrianbulat.com (www.adrianbulat.com)|45.136.29.207|:443... connected.\n",
            "HTTP request sent, awaiting response... 200 OK\n",
            "Length: 89843225 (86M) [application/octet-stream]\n",
            "Saving to: ‘Wav2Lip/face_detection/detection/sfd/s3fd.pth’\n",
            "\n",
            "Wav2Lip/face_detect 100%[===================>]  85.68M  23.1MB/s    in 3.7s    \n",
            "\n",
            "2023-09-29 06:22:08 (23.1 MB/s) - ‘Wav2Lip/face_detection/detection/sfd/s3fd.pth’ saved [89843225/89843225]\n",
            "\n"
          ]
        }
      ]
    },
    {
      "cell_type": "code",
      "source": [
        "!cp \"/content/gdrive/MyDrive/Myproj/openapp/inputs/myprojshortvideo.mp4\" \"/content/gdrive/MyDrive/Myproj/openapp/inputs/myprojaudioshort.wav\" sample_data/\n",
        "!ls sample_data/"
      ],
      "metadata": {
        "colab": {
          "base_uri": "https://localhost:8080/"
        },
        "id": "Gvj8kAD5QwkS",
        "outputId": "cd9c61ad-628d-4b95-d035-7a80cd70f0f0"
      },
      "execution_count": null,
      "outputs": [
        {
          "output_type": "stream",
          "name": "stdout",
          "text": [
            "anscombe.json\t\t\t\tmnist_test.csv\n",
            "california_housing_test.csv\t\tmnist_train_small.csv\n",
            "california_housing_train.csv\t\tmyprojaudioshort.wav\n",
            "dictator_audio_extractedaudio_test.wav\tmyprojshortvideo.mp4\n",
            "dictator_orig_videotest.mp4\t\toutput10.wav\n",
            "final_videof.mp4\t\t\tREADME.md\n"
          ]
        }
      ]
    },
    {
      "cell_type": "code",
      "source": [
        "!cd Wav2Lip && python inference.py --checkpoint_path checkpoints/wav2lip.pth --face \"/content/sample_data/dictator_orig_videotest.mp4\" --audio \"/content/sample_data/myprojaudioshort.wav\" --resize_factor 2 --pads 0 20 0 0"
      ],
      "metadata": {
        "colab": {
          "base_uri": "https://localhost:8080/"
        },
        "id": "EDWT7CxbTCE2",
        "outputId": "38380e7f-4fcc-43b1-cfb6-c681866cc1a0"
      },
      "execution_count": null,
      "outputs": [
        {
          "output_type": "stream",
          "name": "stdout",
          "text": [
            "Using cuda for inference.\n",
            "Reading video frames...\n",
            "Number of frames available for inference: 210\n",
            "(80, 561)\n",
            "Length of mel chunks: 206\n",
            "  0% 0/2 [00:00<?, ?it/s]\n",
            "  0% 0/13 [00:00<?, ?it/s]\u001b[A\n",
            "  8% 1/13 [00:06<01:21,  6.83s/it]\u001b[A\n",
            " 15% 2/13 [00:07<00:33,  3.07s/it]\u001b[A\n",
            " 23% 3/13 [00:07<00:18,  1.86s/it]\u001b[A\n",
            " 31% 4/13 [00:08<00:11,  1.29s/it]\u001b[A\n",
            " 38% 5/13 [00:08<00:07,  1.02it/s]\u001b[A\n",
            " 46% 6/13 [00:08<00:05,  1.25it/s]\u001b[A\n",
            " 54% 7/13 [00:09<00:04,  1.38it/s]\u001b[A\n",
            " 62% 8/13 [00:10<00:03,  1.51it/s]\u001b[A\n",
            " 69% 9/13 [00:10<00:02,  1.60it/s]\u001b[A\n",
            " 77% 10/13 [00:11<00:01,  1.68it/s]\u001b[A\n",
            " 85% 11/13 [00:11<00:01,  1.73it/s]\u001b[A\n",
            " 92% 12/13 [00:12<00:00,  1.79it/s]\u001b[A\n",
            "100% 13/13 [00:17<00:00,  1.31s/it]\n",
            "Load checkpoint from: checkpoints/wav2lip.pth\n",
            "Model loaded\n",
            "100% 2/2 [00:33<00:00, 16.77s/it]\n",
            "ffmpeg version 4.4.2-0ubuntu0.22.04.1 Copyright (c) 2000-2021 the FFmpeg developers\n",
            "  built with gcc 11 (Ubuntu 11.2.0-19ubuntu1)\n",
            "  configuration: --prefix=/usr --extra-version=0ubuntu0.22.04.1 --toolchain=hardened --libdir=/usr/lib/x86_64-linux-gnu --incdir=/usr/include/x86_64-linux-gnu --arch=amd64 --enable-gpl --disable-stripping --enable-gnutls --enable-ladspa --enable-libaom --enable-libass --enable-libbluray --enable-libbs2b --enable-libcaca --enable-libcdio --enable-libcodec2 --enable-libdav1d --enable-libflite --enable-libfontconfig --enable-libfreetype --enable-libfribidi --enable-libgme --enable-libgsm --enable-libjack --enable-libmp3lame --enable-libmysofa --enable-libopenjpeg --enable-libopenmpt --enable-libopus --enable-libpulse --enable-librabbitmq --enable-librubberband --enable-libshine --enable-libsnappy --enable-libsoxr --enable-libspeex --enable-libsrt --enable-libssh --enable-libtheora --enable-libtwolame --enable-libvidstab --enable-libvorbis --enable-libvpx --enable-libwebp --enable-libx265 --enable-libxml2 --enable-libxvid --enable-libzimg --enable-libzmq --enable-libzvbi --enable-lv2 --enable-omx --enable-openal --enable-opencl --enable-opengl --enable-sdl2 --enable-pocketsphinx --enable-librsvg --enable-libmfx --enable-libdc1394 --enable-libdrm --enable-libiec61883 --enable-chromaprint --enable-frei0r --enable-libx264 --enable-shared\n",
            "  libavutil      56. 70.100 / 56. 70.100\n",
            "  libavcodec     58.134.100 / 58.134.100\n",
            "  libavformat    58. 76.100 / 58. 76.100\n",
            "  libavdevice    58. 13.100 / 58. 13.100\n",
            "  libavfilter     7.110.100 /  7.110.100\n",
            "  libswscale      5.  9.100 /  5.  9.100\n",
            "  libswresample   3.  9.100 /  3.  9.100\n",
            "  libpostproc    55.  9.100 / 55.  9.100\n",
            "\u001b[0;33mGuessed Channel Layout for Input Stream #0.0 : mono\n",
            "\u001b[0mInput #0, wav, from '/content/sample_data/myprojaudioshort.wav':\n",
            "  Metadata:\n",
            "    encoder         : Lavf58.76.100\n",
            "  Duration: 00:00:07.00, bitrate: 705 kb/s\n",
            "  Stream #0:0: Audio: pcm_s16le ([1][0][0][0] / 0x0001), 44100 Hz, mono, s16, 705 kb/s\n",
            "Input #1, avi, from 'temp/result.avi':\n",
            "  Metadata:\n",
            "    software        : Lavf59.27.100\n",
            "  Duration: 00:00:06.87, start: 0.000000, bitrate: 408 kb/s\n",
            "  Stream #1:0: Video: mpeg4 (Simple Profile) (DIVX / 0x58564944), yuv420p, 424x240 [SAR 1:1 DAR 53:30], 397 kb/s, 30 fps, 30 tbr, 30 tbn, 30 tbc\n",
            "Stream mapping:\n",
            "  Stream #1:0 -> #0:0 (mpeg4 (native) -> h264 (libx264))\n",
            "  Stream #0:0 -> #0:1 (pcm_s16le (native) -> aac (native))\n",
            "Press [q] to stop, [?] for help\n",
            "\u001b[1;36m[libx264 @ 0x5b8a26083a40] \u001b[0m\u001b[0;33m-qscale is ignored, -crf is recommended.\n",
            "\u001b[0m\u001b[1;36m[libx264 @ 0x5b8a26083a40] \u001b[0musing SAR=1/1\n",
            "\u001b[1;36m[libx264 @ 0x5b8a26083a40] \u001b[0musing cpu capabilities: MMX2 SSE2Fast SSSE3 SSE4.2 AVX FMA3 BMI2 AVX2\n",
            "\u001b[1;36m[libx264 @ 0x5b8a26083a40] \u001b[0mprofile High, level 2.1, 4:2:0, 8-bit\n",
            "\u001b[1;36m[libx264 @ 0x5b8a26083a40] \u001b[0m264 - core 163 r3060 5db6aa6 - H.264/MPEG-4 AVC codec - Copyleft 2003-2021 - http://www.videolan.org/x264.html - options: cabac=1 ref=3 deblock=1:0:0 analyse=0x3:0x113 me=hex subme=7 psy=1 psy_rd=1.00:0.00 mixed_ref=1 me_range=16 chroma_me=1 trellis=1 8x8dct=1 cqm=0 deadzone=21,11 fast_pskip=1 chroma_qp_offset=-2 threads=3 lookahead_threads=1 sliced_threads=0 nr=0 decimate=1 interlaced=0 bluray_compat=0 constrained_intra=0 bframes=3 b_pyramid=2 b_adapt=1 b_bias=0 direct=1 weightb=1 open_gop=0 weightp=2 keyint=250 keyint_min=25 scenecut=40 intra_refresh=0 rc_lookahead=40 rc=crf mbtree=1 crf=23.0 qcomp=0.60 qpmin=0 qpmax=69 qpstep=4 ip_ratio=1.40 aq=1:1.00\n",
            "Output #0, mp4, to 'results/result_voice.mp4':\n",
            "  Metadata:\n",
            "    encoder         : Lavf58.76.100\n",
            "  Stream #0:0: Video: h264 (avc1 / 0x31637661), yuv420p(progressive), 424x240 [SAR 1:1 DAR 53:30], q=2-31, 30 fps, 15360 tbn\n",
            "    Metadata:\n",
            "      encoder         : Lavc58.134.100 libx264\n",
            "    Side data:\n",
            "      cpb: bitrate max/min/avg: 0/0/0 buffer size: 0 vbv_delay: N/A\n",
            "  Stream #0:1: Audio: aac (LC) (mp4a / 0x6134706D), 44100 Hz, mono, fltp, 69 kb/s\n",
            "    Metadata:\n",
            "      encoder         : Lavc58.134.100 aac\n",
            "frame=  206 fps=0.0 q=-1.0 Lsize=     193kB time=00:00:06.98 bitrate= 226.4kbits/s speed=7.01x    \n",
            "video:125kB audio:60kB subtitle:0kB other streams:0kB global headers:0kB muxing overhead: 4.576052%\n",
            "\u001b[1;36m[libx264 @ 0x5b8a26083a40] \u001b[0mframe I:1     Avg QP:21.26  size:  6213\n",
            "\u001b[1;36m[libx264 @ 0x5b8a26083a40] \u001b[0mframe P:104   Avg QP:22.32  size:  1006\n",
            "\u001b[1;36m[libx264 @ 0x5b8a26083a40] \u001b[0mframe B:101   Avg QP:27.47  size:   162\n",
            "\u001b[1;36m[libx264 @ 0x5b8a26083a40] \u001b[0mconsecutive B-frames: 25.2% 25.2%  8.7% 40.8%\n",
            "\u001b[1;36m[libx264 @ 0x5b8a26083a40] \u001b[0mmb I  I16..4:  7.9% 88.4%  3.7%\n",
            "\u001b[1;36m[libx264 @ 0x5b8a26083a40] \u001b[0mmb P  I16..4:  0.9%  4.0%  0.0%  P16..4: 31.4%  9.8%  5.6%  0.0%  0.0%    skip:48.2%\n",
            "\u001b[1;36m[libx264 @ 0x5b8a26083a40] \u001b[0mmb B  I16..4:  0.2%  0.5%  0.0%  B16..8: 26.9%  0.7%  0.1%  direct: 0.1%  skip:71.6%  L0:45.0% L1:52.8% BI: 2.1%\n",
            "\u001b[1;36m[libx264 @ 0x5b8a26083a40] \u001b[0m8x8 transform intra:81.3% inter:74.4%\n",
            "\u001b[1;36m[libx264 @ 0x5b8a26083a40] \u001b[0mcoded y,uvDC,uvAC intra: 59.7% 31.1% 2.7% inter: 7.0% 4.6% 0.0%\n",
            "\u001b[1;36m[libx264 @ 0x5b8a26083a40] \u001b[0mi16 v,h,dc,p: 14% 33% 18% 35%\n",
            "\u001b[1;36m[libx264 @ 0x5b8a26083a40] \u001b[0mi8 v,h,dc,ddl,ddr,vr,hd,vl,hu: 25% 32% 29%  3%  2%  2%  2%  3%  2%\n",
            "\u001b[1;36m[libx264 @ 0x5b8a26083a40] \u001b[0mi4 v,h,dc,ddl,ddr,vr,hd,vl,hu: 24% 30% 17%  4%  4%  3%  9%  3%  5%\n",
            "\u001b[1;36m[libx264 @ 0x5b8a26083a40] \u001b[0mi8c dc,h,v,p: 67% 14% 17%  1%\n",
            "\u001b[1;36m[libx264 @ 0x5b8a26083a40] \u001b[0mWeighted P-Frames: Y:1.9% UV:0.0%\n",
            "\u001b[1;36m[libx264 @ 0x5b8a26083a40] \u001b[0mref P L0: 67.9% 13.1% 13.9%  5.1%  0.0%\n",
            "\u001b[1;36m[libx264 @ 0x5b8a26083a40] \u001b[0mref B L0: 87.8%  9.9%  2.3%\n",
            "\u001b[1;36m[libx264 @ 0x5b8a26083a40] \u001b[0mref B L1: 97.3%  2.7%\n",
            "\u001b[1;36m[libx264 @ 0x5b8a26083a40] \u001b[0mkb/s:148.18\n",
            "\u001b[1;36m[aac @ 0x5b8a26084ac0] \u001b[0mQavg: 116.225\n"
          ]
        }
      ]
    }
  ]
}